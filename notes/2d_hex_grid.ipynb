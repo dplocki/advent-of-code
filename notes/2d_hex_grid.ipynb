{
 "cells": [
  {
   "cell_type": "markdown",
   "metadata": {},
   "source": [
    "# 2D Hexagonal Grids\n",
    "\n",
    "The flat grid where each field has six direct neighbours.\n",
    "\n",
    "```\n",
    "  \\   n   /\n",
    "   \\     / \n",
    " n  -----   n\n",
    "   /     \\\n",
    "__/       \\___\n",
    "  \\   p   /\n",
    "   \\     /\n",
    " n  -----  n\n",
    "   /     \\\n",
    "  /   n   \\\n",
    "```\n",
    "\n",
    "The `p` mean point, an the `n` all its neighbours.\n",
    "\n",
    "Here, there will be describe cubical coordinates system. Based on: [Hexagonal Grids from Red Blob Games](https://www.redblobgames.com/grids/hexagons/)."
   ]
  }
 ],
 "metadata": {
  "language_info": {
   "name": "python"
  },
  "orig_nbformat": 4
 },
 "nbformat": 4,
 "nbformat_minor": 2
}
