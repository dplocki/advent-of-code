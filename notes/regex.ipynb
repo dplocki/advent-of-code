{
 "cells": [
  {
   "cell_type": "markdown",
   "source": [
    "# Regular Expression\n",
    "\n",
    "The main regex library for Python is `re`.\n",
    "\n",
    "## Regex Shortcuts\n",
    "\n",
    "| Symbol | Equivalent | Description |\n",
    "|--------|------------|-------------|\n",
    "| `\\d`   | `[0-9]`    | Matches any decimal digit |\n",
    "| `\\D`   | `[^0-9]`   | Matches any non-digit character |\n",
    "| `\\s`   | `[ \\t\\n\\r\\f\\v]` | Matches any whitespace character |\n",
    "| `\\S`   | `[^ \\t\\n\\r\\f\\v]` | Matches any non-whitespace character |\n",
    "| `\\w`   | `[a-zA-Z0-9_]` | Matches any alphanumeric character |\n",
    "| `\\W`   | `[^a-zA-Z0-9_]` | Matches any non-alphanumeric character |\n",
    "\n",
    "## Usage of regex"
   ],
   "metadata": {}
  },
  {
   "cell_type": "code",
   "execution_count": 1,
   "source": [
    "import re\n",
    "\n",
    "pattern = re.compile('ab*c')"
   ],
   "outputs": [],
   "metadata": {}
  },
  {
   "cell_type": "markdown",
   "source": [
    "## Regex methods\n",
    "\n",
    "| Function     | Description |\n",
    "|--------------|--------------------|\n",
    "| `match()`    | Determine if the RE matches at the beginning of the string |\n",
    "| `search()`   | Scan through a string, looking for any location where this RE matches\n",
    "| `findall()`  | Find all substrings where the RE matches, and returns them as a list |\n",
    "| `finditer()` | Find all substrings where the RE matches, and returns them as an iterator |\n",
    "\n",
    "### Checking maching of the given string to pattern\n",
    "\n",
    "There are two methods: `match` and `fullmatch`."
   ],
   "metadata": {}
  },
  {
   "cell_type": "code",
   "execution_count": 2,
   "source": [
    "line_formater = '{0:35} {1!s:10} {2!s:10}'\n",
    "build_line = lambda item: line_formater.format(item[0], pattern.match(item[1]) != None, pattern.fullmatch(item[1]) != None)\n",
    "\n",
    "print(line_formater.format('Pattern:', 'Match:', 'Fullmatch:'))\n",
    "print('\\n'.join(map(build_line, {\n",
    "    'do not match at all': 'aaa',\n",
    "    'match from the beging to end': 'abbbbc',\n",
    "    'match from the beging to middle': 'abbbbcnnn',\n",
    "    'match from from middle to end': 'nnnabbc',\n",
    "    'match from just in middle': 'nnnabbcnnn',\n",
    "    'match to the end': 'nnnabbc'\n",
    "}.items())))"
   ],
   "outputs": [
    {
     "output_type": "stream",
     "name": "stdout",
     "text": [
      "Pattern:                            Match:     Fullmatch:\n",
      "do not match at all                 False      False     \n",
      "match from the beging to end        True       True      \n",
      "match from the beging to middle     True       False     \n",
      "match from from middle to end       False      False     \n",
      "match from just in middle           False      False     \n",
      "match to the end                    False      False     \n"
     ]
    }
   ],
   "metadata": {}
  },
  {
   "cell_type": "markdown",
   "source": [
    "#### Usage of groups\n",
    "\n",
    "```py\n",
    "pattern = re.compile(r'(\\d+)-(\\d+) ([a-z]): ([a-z]+)')\n",
    "groups = pattern.fullmatch(line)\n",
    "if groups:\n",
    "    print(groups[1], groups[2], groups[3], groups[4])\n",
    "```\n",
    "\n",
    "### Find pattern location in given string"
   ],
   "metadata": {}
  },
  {
   "cell_type": "code",
   "execution_count": 3,
   "source": [
    "print('Pattern do not match at all:', pattern.search('aaa'))\n",
    "print('Pattern match from the beging to end:', pattern.search('abbbbc'))\n",
    "print('Pattern match from the beging to middle:', pattern.search('abbbbcnnn'))\n",
    "print('Pattern match from from middle to end:', pattern.search('nnnabbc'))\n",
    "print('Pattern match from just in middle:', pattern.search('nnnabbcnnn'))\n",
    "print('Pattern match to the end:', pattern.search('nnnabbc'))"
   ],
   "outputs": [
    {
     "output_type": "stream",
     "name": "stdout",
     "text": [
      "Pattern do not match at all: None\n",
      "Pattern match from the beging to end: <re.Match object; span=(0, 6), match='abbbbc'>\n",
      "Pattern match from the beging to middle: <re.Match object; span=(0, 6), match='abbbbc'>\n",
      "Pattern match from from middle to end: <re.Match object; span=(3, 7), match='abbc'>\n",
      "Pattern match from just in middle: <re.Match object; span=(3, 7), match='abbc'>\n",
      "Pattern match to the end: <re.Match object; span=(3, 7), match='abbc'>\n"
     ]
    }
   ],
   "metadata": {}
  },
  {
   "cell_type": "markdown",
   "source": [
    "### Find all pattern locations in given string\n",
    "\n",
    "There are two methods for it: `findall` and `finditer`."
   ],
   "metadata": {}
  },
  {
   "cell_type": "code",
   "execution_count": 4,
   "source": [
    "print('Pattern do not match at all:', pattern.findall('nnnnnnnn'))\n",
    "print('Pattern match from the beging to end:', pattern.findall('abbbbc'))\n",
    "print('Pattern match from the beging to middle:', pattern.search('abbbbcnnn'))\n",
    "print('Pattern match from from middle to end:', pattern.search('nnnabbc'))\n",
    "print('Pattern match from just in middle:', pattern.search('nnnabbcnnn'))\n",
    "print('Pattern match to the end:', pattern.search('nnnabbc'))"
   ],
   "outputs": [
    {
     "output_type": "stream",
     "name": "stdout",
     "text": [
      "Pattern do not match at all: []\n",
      "Pattern match from the beging to end: ['abbbbc']\n",
      "Pattern match from the beging to middle: <re.Match object; span=(0, 6), match='abbbbc'>\n",
      "Pattern match from from middle to end: <re.Match object; span=(3, 7), match='abbc'>\n",
      "Pattern match from just in middle: <re.Match object; span=(3, 7), match='abbc'>\n",
      "Pattern match to the end: <re.Match object; span=(3, 7), match='abbc'>\n"
     ]
    }
   ],
   "metadata": {}
  }
 ],
 "metadata": {
  "orig_nbformat": 4,
  "language_info": {
   "name": "python",
   "version": "3.8.10",
   "mimetype": "text/x-python",
   "codemirror_mode": {
    "name": "ipython",
    "version": 3
   },
   "pygments_lexer": "ipython3",
   "nbconvert_exporter": "python",
   "file_extension": ".py"
  },
  "kernelspec": {
   "name": "python3",
   "display_name": "Python 3.8.10 64-bit"
  },
  "interpreter": {
   "hash": "31f2aee4e71d21fbe5cf8b01ff0e069b9275f58929596ceb00d14d90e3e16cd6"
  }
 },
 "nbformat": 4,
 "nbformat_minor": 2
}