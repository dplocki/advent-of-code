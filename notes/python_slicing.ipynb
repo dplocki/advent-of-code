{
 "cells": [
  {
   "cell_type": "markdown",
   "source": [
    "# Python slicing\n",
    "\n",
    "Python providing easy way to slice the string.\n",
    "\n",
    "The template for that:\n",
    "\n",
    "```py\n",
    "string[start: end: step]\n",
    "```\n",
    "\n",
    "The meaning of values:\n",
    "\n",
    "| Token   | The first included index | Is the given included | value if not provided | Meaning |\n",
    "|---------|---------|-----|---|---------|\n",
    "| `start` | `start` | yes | 0 | Skip first `start` characters |\n",
    "| `end`   | n/a     | no  | `len(string)` | Up to `end`-th characters |\n",
    "| `step`  | n/a     | n/a | 1 | Every `step`-th character |\n",
    "\n",
    "## Negative values\n",
    "\n",
    "Negative means for:\n",
    " * `start` - last `start` characters\n",
    " * `end` - skip the last `end` characters\n",
    "\n",
    "## Examples:"
   ],
   "metadata": {}
  },
  {
   "cell_type": "code",
   "execution_count": 1,
   "source": [
    "example = '0123456789'\n",
    "\n",
    "print('[2:] From third character to the end:', example[2:])\n",
    "print('[:3] First 3 characters:', example[:3])\n",
    "print('[-4:] Last 4 characters:', example[-4:])\n",
    "print('[3:5] From 3th character up to 5th:', example[3:5])\n",
    "print('[-4:2] Last 4 characters up to second:', example[-4:2], '(yes, it is empty)')\n",
    "print('[::2] Every second character:', example[::2])\n",
    "print('[::-1] Revers the whole string:', example[::-1])\n",
    "print('[::-3] Revers the every third character:', example[::-3])"
   ],
   "outputs": [
    {
     "output_type": "stream",
     "name": "stdout",
     "text": [
      "[2:] From third character to the end: 23456789\n",
      "[:3] First 3 characters: 012\n",
      "[-4:] Last 4 characters: 6789\n",
      "[3:5] From 3th character up to 5th: 34\n",
      "[-4:2] Last 4 characters up to second:  (yes, it is empty)\n",
      "[::2] Every second character: 02468\n",
      "[::-1] Revers the whole string: 9876543210\n",
      "[::-3] Revers the every third character: 9630\n"
     ]
    }
   ],
   "metadata": {}
  }
 ],
 "metadata": {
  "orig_nbformat": 4,
  "language_info": {
   "name": "python",
   "version": "3.8.10",
   "mimetype": "text/x-python",
   "codemirror_mode": {
    "name": "ipython",
    "version": 3
   },
   "pygments_lexer": "ipython3",
   "nbconvert_exporter": "python",
   "file_extension": ".py"
  },
  "kernelspec": {
   "name": "python3",
   "display_name": "Python 3.8.10 64-bit"
  },
  "interpreter": {
   "hash": "31f2aee4e71d21fbe5cf8b01ff0e069b9275f58929596ceb00d14d90e3e16cd6"
  }
 },
 "nbformat": 4,
 "nbformat_minor": 2
}